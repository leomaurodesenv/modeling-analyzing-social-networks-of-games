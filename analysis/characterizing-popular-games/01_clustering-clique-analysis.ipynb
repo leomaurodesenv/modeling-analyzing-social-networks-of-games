{
 "cells": [
  {
   "attachments": {},
   "cell_type": "markdown",
   "metadata": {},
   "source": [
    "# Clustering Analysis - CLIQUE results"
   ]
  },
  {
   "cell_type": "code",
   "execution_count": 1,
   "metadata": {
    "ExecuteTime": {
     "end_time": "2019-07-19T17:23:22.345295Z",
     "start_time": "2019-07-19T17:23:18.415181Z"
    }
   },
   "outputs": [],
   "source": [
    "# Imports\n",
    "import pickle\n",
    "import pandas as pd\n",
    "from tqdm import tqdm\n",
    "\n",
    "# Plot\n",
    "import seaborn as sns\n",
    "import matplotlib.pyplot as plt"
   ]
  },
  {
   "cell_type": "markdown",
   "metadata": {},
   "source": [
    "### Data"
   ]
  },
  {
   "cell_type": "code",
   "execution_count": 2,
   "metadata": {
    "ExecuteTime": {
     "end_time": "2019-07-19T17:23:22.348898Z",
     "start_time": "2019-07-19T17:23:22.346838Z"
    }
   },
   "outputs": [],
   "source": [
    "threshold_pruning = 0.5 # dataset: 0.57 with zeros"
   ]
  },
  {
   "cell_type": "code",
   "execution_count": 3,
   "metadata": {
    "ExecuteTime": {
     "end_time": "2019-07-19T17:23:22.936412Z",
     "start_time": "2019-07-19T17:23:22.350139Z"
    }
   },
   "outputs": [
    {
     "name": "stdout",
     "output_type": "stream",
     "text": [
      "clusters: 3573\n"
     ]
    }
   ],
   "source": [
    "# Data\n",
    "dataset_folder = 'data'\n",
    "cluster_file_path = '%s/%s' % (dataset_folder, 'clique-cluster.bin')\n",
    "data_norm = pd.read_csv('%s/%s' % (dataset_folder, 'platform-game-without-class.txt'), header=None, sep=' ')\n",
    "data_real = pd.read_csv('%s/%s' % (dataset_folder, 'platform-game.csv'), sep=',')\n",
    "columns = pickle.load(open('%s/%s' % (dataset_folder, 'platform-game-column.bin'), 'rb'))\n",
    "\n",
    "# Clusters\n",
    "df = pickle.load(open(cluster_file_path, \"rb\"))\n",
    "print(\"clusters:\",len(df))"
   ]
  },
  {
   "cell_type": "markdown",
   "metadata": {},
   "source": [
    "## Cluster Analysis\n",
    "\n",
    "### Display Clusters by Dimenson"
   ]
  },
  {
   "cell_type": "code",
   "execution_count": 4,
   "metadata": {
    "ExecuteTime": {
     "end_time": "2019-07-19T17:23:22.942141Z",
     "start_time": "2019-07-19T17:23:22.937669Z"
    },
    "scrolled": true
   },
   "outputs": [
    {
     "name": "stdout",
     "output_type": "stream",
     "text": [
      "Clusters by dimension\n",
      "1 16\n",
      "2 180\n",
      "3 554\n",
      "4 945\n",
      "5 955\n",
      "6 620\n",
      "7 168\n",
      "8 103\n",
      "9 32\n",
      "10 0\n",
      "11 0\n",
      "12 0\n"
     ]
    }
   ],
   "source": [
    "cluster_dimension = {x:[] for x in range(1,13)}\n",
    "for cluster in df:\n",
    "    dimension = len(cluster[\"dimension\"])\n",
    "    cluster_dimension[dimension].append(cluster)\n",
    "\n",
    "print('Clusters by dimension')\n",
    "for key, clusters in cluster_dimension.items():\n",
    "    print(key, len(clusters))\n",
    "\n",
    "del cluster_dimension"
   ]
  },
  {
   "cell_type": "markdown",
   "metadata": {},
   "source": [
    "### Threshold Percent of Zeros"
   ]
  },
  {
   "cell_type": "code",
   "execution_count": 5,
   "metadata": {
    "ExecuteTime": {
     "end_time": "2019-07-19T17:23:23.054029Z",
     "start_time": "2019-07-19T17:23:22.944241Z"
    }
   },
   "outputs": [],
   "source": [
    "def getDimension(cluster,column=\"dimension\"):\n",
    "    return [int(x)-1 for x in cluster[column]]\n",
    "\n",
    "\n",
    "def getElements(cluster):\n",
    "    return [int(el)-1 for el in cluster[\"element\"]]\n",
    "\n",
    "\n",
    "def percentZeros(df,cluster):\n",
    "    # cluster\n",
    "    cluster_columns = getDimension(cluster)\n",
    "    cluster_elements = getElements(cluster)\n",
    "    # selected data\n",
    "    df_data = df.loc[cluster_elements,cluster_columns].astype(bool)\n",
    "    zeros     = (df_data == False).sum().sum()\n",
    "    non_zeros = (df_data == True).sum().sum()\n",
    "    percent = zeros/(zeros+non_zeros)\n",
    "    return percent"
   ]
  },
  {
   "cell_type": "code",
   "execution_count": 6,
   "metadata": {
    "ExecuteTime": {
     "end_time": "2019-07-19T17:23:23.171737Z",
     "start_time": "2019-07-19T17:23:23.055607Z"
    }
   },
   "outputs": [],
   "source": [
    "def getClustersThreshold(threshold=0.5):\n",
    "    df_threshold = []\n",
    "    for cluster in tqdm(df,desc=\"Threshold\"):\n",
    "        percent = percentZeros(data_norm,cluster)\n",
    "        if percent <= threshold:\n",
    "            df_threshold.append(cluster)\n",
    "    return df_threshold"
   ]
  },
  {
   "cell_type": "code",
   "execution_count": 7,
   "metadata": {
    "ExecuteTime": {
     "end_time": "2019-07-19T17:23:30.102145Z",
     "start_time": "2019-07-19T17:23:23.173439Z"
    }
   },
   "outputs": [
    {
     "name": "stderr",
     "output_type": "stream",
     "text": [
      "Threshold: 100%|██████████| 3573/3573 [00:03<00:00, 1111.32it/s]\n"
     ]
    }
   ],
   "source": [
    "df_clean = getClustersThreshold(threshold_pruning)"
   ]
  },
  {
   "cell_type": "code",
   "execution_count": 8,
   "metadata": {
    "ExecuteTime": {
     "end_time": "2019-07-19T17:23:30.108393Z",
     "start_time": "2019-07-19T17:23:30.104519Z"
    }
   },
   "outputs": [
    {
     "data": {
      "text/plain": [
       "'percent <= 0.50 - clusters 790'"
      ]
     },
     "execution_count": 8,
     "metadata": {},
     "output_type": "execute_result"
    }
   ],
   "source": [
    "'percent <= %.2f - clusters %d' % (threshold_pruning, len(df_clean))"
   ]
  },
  {
   "cell_type": "markdown",
   "metadata": {
    "ExecuteTime": {
     "end_time": "2019-07-09T23:59:57.070093Z",
     "start_time": "2019-07-09T23:59:57.063856Z"
    }
   },
   "source": [
    "Order the cluster by the number of elements (courses)"
   ]
  },
  {
   "cell_type": "code",
   "execution_count": 9,
   "metadata": {
    "ExecuteTime": {
     "end_time": "2019-07-19T17:23:30.222986Z",
     "start_time": "2019-07-19T17:23:30.109828Z"
    }
   },
   "outputs": [],
   "source": [
    "def numberOfElements(cluster):\n",
    "    return len(cluster['element'])\n",
    "\n",
    "\n",
    "def intervalRule(df,cluster):\n",
    "    # selected data\n",
    "    cluster_columns = getDimension(cluster)\n",
    "    cluster_columns = df.columns[cluster_columns]\n",
    "    cluster_elements = getElements(cluster)\n",
    "    df_data = df.loc[cluster_elements,cluster_columns]\n",
    "    # interval\n",
    "    df_data_max = df_data.max()\n",
    "    df_data_min = df_data.min()\n",
    "    values = [(df_data_min[column], df_data_max[column]) for column in cluster_columns]\n",
    "    return values,cluster_columns.tolist()\n",
    "\n",
    "\n",
    "# -- remove zero columns\n",
    "def intervalRuleFalsed(df,cluster):\n",
    "    intervals_values,dimension_columns = intervalRule(data_real,cluster)\n",
    "    for interval in intervals_values:\n",
    "        if interval[1] == 0:\n",
    "            return False,False\n",
    "    return intervals_values,dimension_columns"
   ]
  },
  {
   "cell_type": "code",
   "execution_count": 10,
   "metadata": {
    "ExecuteTime": {
     "end_time": "2019-07-19T17:23:30.380313Z",
     "start_time": "2019-07-19T17:23:30.224149Z"
    }
   },
   "outputs": [],
   "source": [
    "df_clean.sort(key=numberOfElements,reverse=True)"
   ]
  },
  {
   "cell_type": "markdown",
   "metadata": {},
   "source": [
    "Remove clusters with zero interval, and coverage min"
   ]
  },
  {
   "cell_type": "code",
   "execution_count": 11,
   "metadata": {
    "ExecuteTime": {
     "end_time": "2019-07-19T17:23:31.969532Z",
     "start_time": "2019-07-19T17:23:30.381682Z"
    },
    "scrolled": false
   },
   "outputs": [
    {
     "data": {
      "text/plain": [
       "('Without zero interval:', 318)"
      ]
     },
     "execution_count": 11,
     "metadata": {},
     "output_type": "execute_result"
    }
   ],
   "source": [
    "df_itemset = pd.DataFrame(columns=['cluster','coverage','dimension','dimension.set','interval'])\n",
    "for idx,cluster in enumerate(df_clean):\n",
    "    elements_count = numberOfElements(cluster)\n",
    "    intervals_values,dimension_columns = intervalRuleFalsed(data_real,cluster)\n",
    "    if intervals_values and dimension_columns:\n",
    "        df_itemset.loc[idx] = [cluster['number'],elements_count,dimension_columns,set(dimension_columns),intervals_values]\n",
    "\n",
    "'Without zero interval:', len(df_itemset)"
   ]
  },
  {
   "cell_type": "markdown",
   "metadata": {},
   "source": [
    "### Cutoff Head"
   ]
  },
  {
   "cell_type": "code",
   "execution_count": 12,
   "metadata": {
    "ExecuteTime": {
     "end_time": "2019-07-19T17:23:32.013425Z",
     "start_time": "2019-07-19T17:23:31.970801Z"
    },
    "scrolled": false
   },
   "outputs": [
    {
     "data": {
      "text/html": [
       "<div>\n",
       "<style scoped>\n",
       "    .dataframe tbody tr th:only-of-type {\n",
       "        vertical-align: middle;\n",
       "    }\n",
       "\n",
       "    .dataframe tbody tr th {\n",
       "        vertical-align: top;\n",
       "    }\n",
       "\n",
       "    .dataframe thead th {\n",
       "        text-align: right;\n",
       "    }\n",
       "</style>\n",
       "<table border=\"1\" class=\"dataframe\">\n",
       "  <thead>\n",
       "    <tr style=\"text-align: right;\">\n",
       "      <th></th>\n",
       "      <th>cluster</th>\n",
       "      <th>coverage</th>\n",
       "      <th>dimension</th>\n",
       "      <th>interval</th>\n",
       "    </tr>\n",
       "  </thead>\n",
       "  <tbody>\n",
       "    <tr>\n",
       "      <th>0</th>\n",
       "      <td>3</td>\n",
       "      <td>718</td>\n",
       "      <td>[harmful-indestructible-fixedBig]</td>\n",
       "      <td>[(0, 102)]</td>\n",
       "    </tr>\n",
       "    <tr>\n",
       "      <th>1</th>\n",
       "      <td>4</td>\n",
       "      <td>718</td>\n",
       "      <td>[friendly-teleport]</td>\n",
       "      <td>[(0, 150)]</td>\n",
       "    </tr>\n",
       "    <tr>\n",
       "      <th>2</th>\n",
       "      <td>5</td>\n",
       "      <td>717</td>\n",
       "      <td>[harmful-indestructible-fixed]</td>\n",
       "      <td>[(0, 1557)]</td>\n",
       "    </tr>\n",
       "    <tr>\n",
       "      <th>3</th>\n",
       "      <td>12</td>\n",
       "      <td>715</td>\n",
       "      <td>[harmful-indestructible-shooter]</td>\n",
       "      <td>[(0, 84)]</td>\n",
       "    </tr>\n",
       "    <tr>\n",
       "      <th>4</th>\n",
       "      <td>15</td>\n",
       "      <td>715</td>\n",
       "      <td>[friendly-help]</td>\n",
       "      <td>[(0, 773)]</td>\n",
       "    </tr>\n",
       "    <tr>\n",
       "      <th>5</th>\n",
       "      <td>6</td>\n",
       "      <td>713</td>\n",
       "      <td>[friendly-powerUp]</td>\n",
       "      <td>[(0, 140)]</td>\n",
       "    </tr>\n",
       "    <tr>\n",
       "      <th>6</th>\n",
       "      <td>10</td>\n",
       "      <td>712</td>\n",
       "      <td>[friendly-coin]</td>\n",
       "      <td>[(0, 595)]</td>\n",
       "    </tr>\n",
       "  </tbody>\n",
       "</table>\n",
       "</div>"
      ],
      "text/plain": [
       "  cluster  coverage                          dimension     interval\n",
       "0       3       718  [harmful-indestructible-fixedBig]   [(0, 102)]\n",
       "1       4       718                [friendly-teleport]   [(0, 150)]\n",
       "2       5       717     [harmful-indestructible-fixed]  [(0, 1557)]\n",
       "3      12       715   [harmful-indestructible-shooter]    [(0, 84)]\n",
       "4      15       715                    [friendly-help]   [(0, 773)]\n",
       "5       6       713                 [friendly-powerUp]   [(0, 140)]\n",
       "6      10       712                    [friendly-coin]   [(0, 595)]"
      ]
     },
     "execution_count": 12,
     "metadata": {},
     "output_type": "execute_result"
    }
   ],
   "source": [
    "# data\n",
    "itemset_columns = ['cluster','coverage','dimension','interval']\n",
    "# print\n",
    "df_itemset[itemset_columns].head(7)"
   ]
  },
  {
   "cell_type": "code",
   "execution_count": 13,
   "metadata": {
    "ExecuteTime": {
     "end_time": "2019-07-19T17:23:32.115831Z",
     "start_time": "2019-07-19T17:23:32.015066Z"
    }
   },
   "outputs": [
    {
     "data": {
      "text/plain": [
       "harmful-indestructible-fixedBig     170\n",
       "friendly-teleport                   220\n",
       "harmful-indestructible-fixed       2005\n",
       "harmful-indestructible-shooter      121\n",
       "friendly-help                      1999\n",
       "friendly-powerUp                    200\n",
       "friendly-coin                      1570\n",
       "dtype: int64"
      ]
     },
     "execution_count": 13,
     "metadata": {},
     "output_type": "execute_result"
    }
   ],
   "source": [
    "dim = ['harmful-indestructible-fixedBig','friendly-teleport','harmful-indestructible-fixed',\n",
    "       'harmful-indestructible-shooter','friendly-help','friendly-powerUp','friendly-coin']\n",
    "data_real[dim].max()"
   ]
  },
  {
   "cell_type": "code",
   "execution_count": 14,
   "metadata": {
    "ExecuteTime": {
     "end_time": "2019-07-19T17:23:32.284833Z",
     "start_time": "2019-07-19T17:23:32.117027Z"
    },
    "scrolled": false
   },
   "outputs": [
    {
     "data": {
      "text/html": [
       "<div>\n",
       "<style scoped>\n",
       "    .dataframe tbody tr th:only-of-type {\n",
       "        vertical-align: middle;\n",
       "    }\n",
       "\n",
       "    .dataframe tbody tr th {\n",
       "        vertical-align: top;\n",
       "    }\n",
       "\n",
       "    .dataframe thead th {\n",
       "        text-align: right;\n",
       "    }\n",
       "</style>\n",
       "<table border=\"1\" class=\"dataframe\">\n",
       "  <thead>\n",
       "    <tr style=\"text-align: right;\">\n",
       "      <th></th>\n",
       "      <th>cluster</th>\n",
       "      <th>coverage</th>\n",
       "      <th>dimension</th>\n",
       "      <th>interval</th>\n",
       "    </tr>\n",
       "  </thead>\n",
       "  <tbody>\n",
       "    <tr>\n",
       "      <th>7</th>\n",
       "      <td>28</td>\n",
       "      <td>702</td>\n",
       "      <td>[harmful-breakable-flyBig, harmful-indestructi...</td>\n",
       "      <td>[(0, 9), (0, 1557)]</td>\n",
       "    </tr>\n",
       "    <tr>\n",
       "      <th>8</th>\n",
       "      <td>145</td>\n",
       "      <td>650</td>\n",
       "      <td>[friendly-vehicle, friendly-help]</td>\n",
       "      <td>[(0, 5), (0, 773)]</td>\n",
       "    </tr>\n",
       "    <tr>\n",
       "      <th>9</th>\n",
       "      <td>163</td>\n",
       "      <td>645</td>\n",
       "      <td>[friendly-help, friendly-coin]</td>\n",
       "      <td>[(0, 191), (0, 595)]</td>\n",
       "    </tr>\n",
       "    <tr>\n",
       "      <th>10</th>\n",
       "      <td>157</td>\n",
       "      <td>643</td>\n",
       "      <td>[friendly-help, friendly-teleport]</td>\n",
       "      <td>[(0, 191), (0, 98)]</td>\n",
       "    </tr>\n",
       "    <tr>\n",
       "      <th>11</th>\n",
       "      <td>553</td>\n",
       "      <td>640</td>\n",
       "      <td>[harmful-indestructible-shooterFly, friendly-h...</td>\n",
       "      <td>[(0, 2), (0, 191), (0, 595)]</td>\n",
       "    </tr>\n",
       "    <tr>\n",
       "      <th>12</th>\n",
       "      <td>582</td>\n",
       "      <td>640</td>\n",
       "      <td>[harmful-breakable-shooterFlyBig, friendly-hel...</td>\n",
       "      <td>[(0, 1), (0, 191), (0, 582)]</td>\n",
       "    </tr>\n",
       "    <tr>\n",
       "      <th>13</th>\n",
       "      <td>547</td>\n",
       "      <td>638</td>\n",
       "      <td>[harmful-indestructible-shooterFly, friendly-h...</td>\n",
       "      <td>[(0, 2), (0, 191), (0, 98)]</td>\n",
       "    </tr>\n",
       "    <tr>\n",
       "      <th>14</th>\n",
       "      <td>671</td>\n",
       "      <td>638</td>\n",
       "      <td>[harmful-breakable-shooterFlyBig, friendly-hel...</td>\n",
       "      <td>[(0, 1), (0, 191), (0, 98)]</td>\n",
       "    </tr>\n",
       "    <tr>\n",
       "      <th>15</th>\n",
       "      <td>516</td>\n",
       "      <td>632</td>\n",
       "      <td>[harmful-breakable-flyBig, friendly-help, frie...</td>\n",
       "      <td>[(0, 9), (0, 191), (0, 595)]</td>\n",
       "    </tr>\n",
       "    <tr>\n",
       "      <th>16</th>\n",
       "      <td>708</td>\n",
       "      <td>630</td>\n",
       "      <td>[harmful-breakable-flyBig, friendly-help, frie...</td>\n",
       "      <td>[(0, 9), (0, 191), (0, 98)]</td>\n",
       "    </tr>\n",
       "    <tr>\n",
       "      <th>17</th>\n",
       "      <td>188</td>\n",
       "      <td>600</td>\n",
       "      <td>[harmful-indestructible-fixed, friendly-help]</td>\n",
       "      <td>[(0, 199), (0, 773)]</td>\n",
       "    </tr>\n",
       "    <tr>\n",
       "      <th>18</th>\n",
       "      <td>130</td>\n",
       "      <td>597</td>\n",
       "      <td>[harmful-indestructible-fixed, friendly-vehicle]</td>\n",
       "      <td>[(0, 199), (0, 26)]</td>\n",
       "    </tr>\n",
       "    <tr>\n",
       "      <th>19</th>\n",
       "      <td>631</td>\n",
       "      <td>596</td>\n",
       "      <td>[harmful-indestructible-fixed, harmful-indestr...</td>\n",
       "      <td>[(0, 199), (0, 2), (0, 773)]</td>\n",
       "    </tr>\n",
       "    <tr>\n",
       "      <th>20</th>\n",
       "      <td>150</td>\n",
       "      <td>595</td>\n",
       "      <td>[harmful-indestructible-fixedBig, friendly-help]</td>\n",
       "      <td>[(0, 17), (0, 773)]</td>\n",
       "    </tr>\n",
       "    <tr>\n",
       "      <th>21</th>\n",
       "      <td>663</td>\n",
       "      <td>595</td>\n",
       "      <td>[harmful-breakable-shooterFlyBig, harmful-inde...</td>\n",
       "      <td>[(0, 1), (0, 199), (0, 773)]</td>\n",
       "    </tr>\n",
       "    <tr>\n",
       "      <th>22</th>\n",
       "      <td>715</td>\n",
       "      <td>592</td>\n",
       "      <td>[harmful-breakable-shooterBig, harmful-indestr...</td>\n",
       "      <td>[(0, 5), (0, 199), (0, 773)]</td>\n",
       "    </tr>\n",
       "    <tr>\n",
       "      <th>23</th>\n",
       "      <td>615</td>\n",
       "      <td>585</td>\n",
       "      <td>[harmful-breakable-flyBig, harmful-indestructi...</td>\n",
       "      <td>[(0, 9), (0, 199), (0, 773)]</td>\n",
       "    </tr>\n",
       "    <tr>\n",
       "      <th>24</th>\n",
       "      <td>694</td>\n",
       "      <td>583</td>\n",
       "      <td>[harmful-breakable-flyBig, harmful-indestructi...</td>\n",
       "      <td>[(0, 9), (0, 17), (0, 773)]</td>\n",
       "    </tr>\n",
       "  </tbody>\n",
       "</table>\n",
       "</div>"
      ],
      "text/plain": [
       "   cluster  coverage                                          dimension   \n",
       "7       28       702  [harmful-breakable-flyBig, harmful-indestructi...  \\\n",
       "8      145       650                  [friendly-vehicle, friendly-help]   \n",
       "9      163       645                     [friendly-help, friendly-coin]   \n",
       "10     157       643                 [friendly-help, friendly-teleport]   \n",
       "11     553       640  [harmful-indestructible-shooterFly, friendly-h...   \n",
       "12     582       640  [harmful-breakable-shooterFlyBig, friendly-hel...   \n",
       "13     547       638  [harmful-indestructible-shooterFly, friendly-h...   \n",
       "14     671       638  [harmful-breakable-shooterFlyBig, friendly-hel...   \n",
       "15     516       632  [harmful-breakable-flyBig, friendly-help, frie...   \n",
       "16     708       630  [harmful-breakable-flyBig, friendly-help, frie...   \n",
       "17     188       600      [harmful-indestructible-fixed, friendly-help]   \n",
       "18     130       597   [harmful-indestructible-fixed, friendly-vehicle]   \n",
       "19     631       596  [harmful-indestructible-fixed, harmful-indestr...   \n",
       "20     150       595   [harmful-indestructible-fixedBig, friendly-help]   \n",
       "21     663       595  [harmful-breakable-shooterFlyBig, harmful-inde...   \n",
       "22     715       592  [harmful-breakable-shooterBig, harmful-indestr...   \n",
       "23     615       585  [harmful-breakable-flyBig, harmful-indestructi...   \n",
       "24     694       583  [harmful-breakable-flyBig, harmful-indestructi...   \n",
       "\n",
       "                        interval  \n",
       "7            [(0, 9), (0, 1557)]  \n",
       "8             [(0, 5), (0, 773)]  \n",
       "9           [(0, 191), (0, 595)]  \n",
       "10           [(0, 191), (0, 98)]  \n",
       "11  [(0, 2), (0, 191), (0, 595)]  \n",
       "12  [(0, 1), (0, 191), (0, 582)]  \n",
       "13   [(0, 2), (0, 191), (0, 98)]  \n",
       "14   [(0, 1), (0, 191), (0, 98)]  \n",
       "15  [(0, 9), (0, 191), (0, 595)]  \n",
       "16   [(0, 9), (0, 191), (0, 98)]  \n",
       "17          [(0, 199), (0, 773)]  \n",
       "18           [(0, 199), (0, 26)]  \n",
       "19  [(0, 199), (0, 2), (0, 773)]  \n",
       "20           [(0, 17), (0, 773)]  \n",
       "21  [(0, 1), (0, 199), (0, 773)]  \n",
       "22  [(0, 5), (0, 199), (0, 773)]  \n",
       "23  [(0, 9), (0, 199), (0, 773)]  \n",
       "24   [(0, 9), (0, 17), (0, 773)]  "
      ]
     },
     "execution_count": 14,
     "metadata": {},
     "output_type": "execute_result"
    }
   ],
   "source": [
    "df_itemset[itemset_columns].iloc[7:25]"
   ]
  },
  {
   "cell_type": "markdown",
   "metadata": {},
   "source": [
    "#### Plot"
   ]
  },
  {
   "cell_type": "code",
   "execution_count": 15,
   "metadata": {
    "ExecuteTime": {
     "end_time": "2019-07-19T17:23:32.757299Z",
     "start_time": "2019-07-19T17:23:32.286377Z"
    }
   },
   "outputs": [
    {
     "data": {
      "image/png": "[encoded data removed]",
      "text/plain": [
       "<Figure size 400x100 with 1 Axes>"
      ]
     },
     "metadata": {},
     "output_type": "display_data"
    }
   ],
   "source": [
    "# palette of colors\n",
    "palette = sns.color_palette('cubehelix', 4)\n",
    "sns.palplot(palette)"
   ]
  },
  {
   "cell_type": "code",
   "execution_count": 16,
   "metadata": {
    "ExecuteTime": {
     "end_time": "2019-07-19T17:23:33.053299Z",
     "start_time": "2019-07-19T17:23:32.760376Z"
    }
   },
   "outputs": [
    {
     "data": {
      "image/png": "[encoded data removed]",
      "text/plain": [
       "<Figure size 640x480 with 1 Axes>"
      ]
     },
     "metadata": {},
     "output_type": "display_data"
    }
   ],
   "source": [
    "# values\n",
    "labels = range(len(df_itemset))\n",
    "values = df_itemset['coverage'].tolist()\n",
    "cutoff = 75\n",
    "\n",
    "# plot\n",
    "fig, ax = plt.subplots()\n",
    "ax.plot(values, color=palette[0])\n",
    "plt.axhline(cutoff, color=palette[1])\n",
    "\n",
    "# figure\n",
    "ax.set_xlim(0)\n",
    "ax.set_ylim(0)\n",
    "\n",
    "# ax.axis('equal')\n",
    "# ax.set_yscale('log')\n",
    "# plt.yticks(range(min(values), max(values), 18), range(min(values), max(values), 18))\n",
    "\n",
    "plt.tight_layout()\n",
    "# plt.savefig('%s/%s.pdf' % (plot_folder, 'difficulty'), dpi=300, bbox_inches='tight')\n",
    "plt.show()"
   ]
  },
  {
   "cell_type": "markdown",
   "metadata": {},
   "source": [
    "### Cutoff Tail"
   ]
  },
  {
   "cell_type": "code",
   "execution_count": 17,
   "metadata": {
    "ExecuteTime": {
     "end_time": "2019-07-19T17:23:33.058649Z",
     "start_time": "2019-07-19T17:23:33.054738Z"
    }
   },
   "outputs": [
    {
     "name": "stdout",
     "output_type": "stream",
     "text": [
      "cluster: 59 of 293\n"
     ]
    }
   ],
   "source": [
    "# filtering the clusters if a coverage\n",
    "df_itemset_tail = df_itemset.iloc[25:84]\n",
    "# copying the filtered DataFrame\n",
    "df_itemset_tail = df_itemset_tail.copy()\n",
    "\n",
    "print('cluster: %d of %d' % (len(df_itemset_tail), len(df_itemset.iloc[25:])))"
   ]
  },
  {
   "cell_type": "code",
   "execution_count": 18,
   "metadata": {
    "ExecuteTime": {
     "end_time": "2019-07-19T17:23:33.261451Z",
     "start_time": "2019-07-19T17:23:33.060195Z"
    },
    "scrolled": false
   },
   "outputs": [],
   "source": [
    "df_itemset_tail.loc[:, 'dimension.size'] = df_itemset_tail.apply(lambda x: len(x['dimension']), axis=1).tolist()\n",
    "df_itemset_tail = df_itemset_tail.sort_values(by=['dimension.size'], ascending=False)"
   ]
  },
  {
   "cell_type": "code",
   "execution_count": 19,
   "metadata": {},
   "outputs": [],
   "source": [
    "# storing clustering results\n",
    "df_itemset_tail.to_parquet('%s/%s' % (dataset_folder, 'cluster-items.parquet'))"
   ]
  },
  {
   "cell_type": "markdown",
   "metadata": {},
   "source": [
    "#### Plot"
   ]
  },
  {
   "cell_type": "code",
   "execution_count": 20,
   "metadata": {
    "ExecuteTime": {
     "end_time": "2019-07-19T17:23:33.412639Z",
     "start_time": "2019-07-19T17:23:33.263104Z"
    }
   },
   "outputs": [
    {
     "data": {
      "image/png": "[encoded data removed]",
      "text/plain": [
       "<Figure size 640x480 with 1 Axes>"
      ]
     },
     "metadata": {},
     "output_type": "display_data"
    }
   ],
   "source": [
    "# values\n",
    "values = df_itemset.iloc[25:]['coverage'].tolist()\n",
    "cutoff = 60\n",
    "\n",
    "# plot\n",
    "fig, ax = plt.subplots()\n",
    "ax.plot(values, color=palette[0])\n",
    "plt.axvline(cutoff, color=palette[1])\n",
    "\n",
    "# figure\n",
    "ax.set_xlim(0,300)\n",
    "ax.set_ylim(0)\n",
    "\n",
    "plt.tight_layout()\n",
    "# plt.savefig('%s/%s.pdf' % (plot_folder, 'difficulty'), dpi=300, bbox_inches='tight')\n",
    "plt.show()"
   ]
  },
  {
   "cell_type": "markdown",
   "metadata": {},
   "source": [
    "All of the selected clusters"
   ]
  },
  {
   "cell_type": "code",
   "execution_count": 21,
   "metadata": {
    "ExecuteTime": {
     "end_time": "2019-07-19T17:23:33.504093Z",
     "start_time": "2019-07-19T17:23:33.414356Z"
    },
    "scrolled": false
   },
   "outputs": [
    {
     "name": "stdout",
     "output_type": "stream",
     "text": [
      "Lines 59, columns 4\n"
     ]
    },
    {
     "data": {
      "text/html": [
       "<div>\n",
       "<style scoped>\n",
       "    .dataframe tbody tr th:only-of-type {\n",
       "        vertical-align: middle;\n",
       "    }\n",
       "\n",
       "    .dataframe tbody tr th {\n",
       "        vertical-align: top;\n",
       "    }\n",
       "\n",
       "    .dataframe thead th {\n",
       "        text-align: right;\n",
       "    }\n",
       "</style>\n",
       "<table border=\"1\" class=\"dataframe\">\n",
       "  <thead>\n",
       "    <tr style=\"text-align: right;\">\n",
       "      <th></th>\n",
       "      <th>cluster</th>\n",
       "      <th>coverage</th>\n",
       "      <th>dimension</th>\n",
       "      <th>interval</th>\n",
       "    </tr>\n",
       "  </thead>\n",
       "  <tbody>\n",
       "    <tr>\n",
       "      <th>120</th>\n",
       "      <td>2989</td>\n",
       "      <td>25</td>\n",
       "      <td>[harmful-breakable-flyBig, harmful-breakable-s...</td>\n",
       "      <td>[(0, 5), (0, 1), (0, 2), (6, 11), (0, 154), (0...</td>\n",
       "    </tr>\n",
       "    <tr>\n",
       "      <th>110</th>\n",
       "      <td>2489</td>\n",
       "      <td>26</td>\n",
       "      <td>[harmful-breakable-shooterFlyBig, harmful-inde...</td>\n",
       "      <td>[(0, 1), (0, 2), (6, 11), (0, 154), (0, 250)]</td>\n",
       "    </tr>\n",
       "    <tr>\n",
       "      <th>111</th>\n",
       "      <td>2532</td>\n",
       "      <td>26</td>\n",
       "      <td>[harmful-breakable-flyBig, harmful-breakable-s...</td>\n",
       "      <td>[(0, 5), (0, 1), (6, 11), (0, 154), (0, 250)]</td>\n",
       "    </tr>\n",
       "    <tr>\n",
       "      <th>119</th>\n",
       "      <td>2542</td>\n",
       "      <td>25</td>\n",
       "      <td>[harmful-breakable-flyBig, harmful-indestructi...</td>\n",
       "      <td>[(0, 5), (0, 2), (6, 11), (0, 154), (0, 250)]</td>\n",
       "    </tr>\n",
       "    <tr>\n",
       "      <th>125</th>\n",
       "      <td>1306</td>\n",
       "      <td>24</td>\n",
       "      <td>[harmful-breakable-flyBig, harmful-breakable-s...</td>\n",
       "      <td>[(0, 6), (0, 1), (35, 51), (0, 398)]</td>\n",
       "    </tr>\n",
       "    <tr>\n",
       "      <th>106</th>\n",
       "      <td>1347</td>\n",
       "      <td>27</td>\n",
       "      <td>[harmful-breakable-flyBig, harmful-indestructi...</td>\n",
       "      <td>[(0, 5), (0, 2), (6, 11), (0, 250)]</td>\n",
       "    </tr>\n",
       "    <tr>\n",
       "      <th>76</th>\n",
       "      <td>1620</td>\n",
       "      <td>38</td>\n",
       "      <td>[harmful-breakable-flyBig, harmful-breakable-s...</td>\n",
       "      <td>[(0, 4), (0, 3), (206, 399), (0, 39)]</td>\n",
       "    </tr>\n",
       "    <tr>\n",
       "      <th>80</th>\n",
       "      <td>1250</td>\n",
       "      <td>32</td>\n",
       "      <td>[harmful-breakable-shooterBig, harmful-indestr...</td>\n",
       "      <td>[(0, 5), (25, 36), (0, 2), (0, 176)]</td>\n",
       "    </tr>\n",
       "    <tr>\n",
       "      <th>83</th>\n",
       "      <td>1421</td>\n",
       "      <td>31</td>\n",
       "      <td>[harmful-breakable-flyBig, harmful-breakable-s...</td>\n",
       "      <td>[(0, 6), (0, 5), (25, 36), (0, 176)]</td>\n",
       "    </tr>\n",
       "    <tr>\n",
       "      <th>89</th>\n",
       "      <td>1123</td>\n",
       "      <td>30</td>\n",
       "      <td>[harmful-breakable-shooterFlyBig, harmful-inde...</td>\n",
       "      <td>[(0, 1), (0, 2), (6, 11), (0, 154)]</td>\n",
       "    </tr>\n",
       "    <tr>\n",
       "      <th>90</th>\n",
       "      <td>1139</td>\n",
       "      <td>30</td>\n",
       "      <td>[harmful-breakable-flyBig, harmful-breakable-s...</td>\n",
       "      <td>[(0, 6), (0, 1), (6, 11), (0, 154)]</td>\n",
       "    </tr>\n",
       "    <tr>\n",
       "      <th>94</th>\n",
       "      <td>1145</td>\n",
       "      <td>29</td>\n",
       "      <td>[harmful-breakable-flyBig, harmful-indestructi...</td>\n",
       "      <td>[(0, 6), (0, 2), (6, 11), (0, 154)]</td>\n",
       "    </tr>\n",
       "    <tr>\n",
       "      <th>95</th>\n",
       "      <td>1151</td>\n",
       "      <td>29</td>\n",
       "      <td>[harmful-breakable-shooterBig, harmful-breakab...</td>\n",
       "      <td>[(0, 5), (0, 1), (6, 11), (0, 98)]</td>\n",
       "    </tr>\n",
       "    <tr>\n",
       "      <th>99</th>\n",
       "      <td>1114</td>\n",
       "      <td>28</td>\n",
       "      <td>[harmful-breakable-shooterBig, harmful-indestr...</td>\n",
       "      <td>[(0, 5), (0, 2), (6, 11), (0, 98)]</td>\n",
       "    </tr>\n",
       "    <tr>\n",
       "      <th>100</th>\n",
       "      <td>1177</td>\n",
       "      <td>28</td>\n",
       "      <td>[harmful-breakable-flyBig, harmful-breakable-s...</td>\n",
       "      <td>[(0, 6), (0, 5), (6, 11), (0, 98)]</td>\n",
       "    </tr>\n",
       "    <tr>\n",
       "      <th>101</th>\n",
       "      <td>1398</td>\n",
       "      <td>28</td>\n",
       "      <td>[harmful-breakable-shooterFlyBig, harmful-inde...</td>\n",
       "      <td>[(0, 1), (0, 2), (6, 11), (0, 250)]</td>\n",
       "    </tr>\n",
       "    <tr>\n",
       "      <th>59</th>\n",
       "      <td>1420</td>\n",
       "      <td>47</td>\n",
       "      <td>[harmful-breakable-flyBig, harmful-breakable-s...</td>\n",
       "      <td>[(0, 9), (0, 2), (13, 24), (0, 398)]</td>\n",
       "    </tr>\n",
       "    <tr>\n",
       "      <th>73</th>\n",
       "      <td>1430</td>\n",
       "      <td>38</td>\n",
       "      <td>[harmful-breakable-flyBig, harmful-breakable-s...</td>\n",
       "      <td>[(0, 3), (0, 3), (206, 399), (0, 296)]</td>\n",
       "    </tr>\n",
       "    <tr>\n",
       "      <th>102</th>\n",
       "      <td>1452</td>\n",
       "      <td>28</td>\n",
       "      <td>[harmful-breakable-flyBig, harmful-breakable-s...</td>\n",
       "      <td>[(0, 5), (0, 1), (6, 11), (0, 250)]</td>\n",
       "    </tr>\n",
       "    <tr>\n",
       "      <th>50</th>\n",
       "      <td>1295</td>\n",
       "      <td>59</td>\n",
       "      <td>[harmful-breakable-flyBig, harmful-breakable-s...</td>\n",
       "      <td>[(0, 9), (0, 5), (201, 392), (0, 299)]</td>\n",
       "    </tr>\n",
       "    <tr>\n",
       "      <th>37</th>\n",
       "      <td>1242</td>\n",
       "      <td>62</td>\n",
       "      <td>[harmful-breakable-shooterBig, harmful-indestr...</td>\n",
       "      <td>[(0, 5), (18, 34), (0, 2), (0, 176)]</td>\n",
       "    </tr>\n",
       "    <tr>\n",
       "      <th>38</th>\n",
       "      <td>1305</td>\n",
       "      <td>62</td>\n",
       "      <td>[harmful-breakable-flyBig, harmful-breakable-s...</td>\n",
       "      <td>[(0, 9), (0, 5), (18, 34), (0, 176)]</td>\n",
       "    </tr>\n",
       "    <tr>\n",
       "      <th>39</th>\n",
       "      <td>1335</td>\n",
       "      <td>62</td>\n",
       "      <td>[harmful-breakable-flyBig, harmful-indestructi...</td>\n",
       "      <td>[(0, 9), (18, 34), (0, 2), (0, 176)]</td>\n",
       "    </tr>\n",
       "    <tr>\n",
       "      <th>86</th>\n",
       "      <td>570</td>\n",
       "      <td>30</td>\n",
       "      <td>[harmful-breakable-flyBig, friendly-vehicle, f...</td>\n",
       "      <td>[(0, 6), (6, 11), (0, 154)]</td>\n",
       "    </tr>\n",
       "    <tr>\n",
       "      <th>30</th>\n",
       "      <td>688</td>\n",
       "      <td>65</td>\n",
       "      <td>[harmful-breakable-flyBig, harmful-indestructi...</td>\n",
       "      <td>[(0, 5), (18, 34), (0, 11)]</td>\n",
       "    </tr>\n",
       "    <tr>\n",
       "      <th>124</th>\n",
       "      <td>696</td>\n",
       "      <td>24</td>\n",
       "      <td>[harmful-breakable-flyBig, harmful-indestructi...</td>\n",
       "      <td>[(0, 6), (35, 51), (0, 398)]</td>\n",
       "    </tr>\n",
       "    <tr>\n",
       "      <th>33</th>\n",
       "      <td>538</td>\n",
       "      <td>63</td>\n",
       "      <td>[harmful-indestructible-fixedBig, harmful-inde...</td>\n",
       "      <td>[(18, 34), (0, 2), (0, 176)]</td>\n",
       "    </tr>\n",
       "    <tr>\n",
       "      <th>98</th>\n",
       "      <td>703</td>\n",
       "      <td>28</td>\n",
       "      <td>[harmful-breakable-flyBig, friendly-vehicle, f...</td>\n",
       "      <td>[(0, 5), (6, 11), (0, 250)]</td>\n",
       "    </tr>\n",
       "    <tr>\n",
       "      <th>97</th>\n",
       "      <td>682</td>\n",
       "      <td>28</td>\n",
       "      <td>[harmful-indestructible-shooterFly, friendly-v...</td>\n",
       "      <td>[(0, 2), (6, 11), (0, 250)]</td>\n",
       "    </tr>\n",
       "    <tr>\n",
       "      <th>35</th>\n",
       "      <td>649</td>\n",
       "      <td>63</td>\n",
       "      <td>[harmful-breakable-shooterBig, harmful-indestr...</td>\n",
       "      <td>[(0, 5), (18, 34), (0, 176)]</td>\n",
       "    </tr>\n",
       "    <tr>\n",
       "      <th>36</th>\n",
       "      <td>695</td>\n",
       "      <td>63</td>\n",
       "      <td>[harmful-breakable-flyBig, harmful-indestructi...</td>\n",
       "      <td>[(0, 9), (18, 34), (0, 176)]</td>\n",
       "    </tr>\n",
       "    <tr>\n",
       "      <th>93</th>\n",
       "      <td>739</td>\n",
       "      <td>29</td>\n",
       "      <td>[harmful-breakable-shooterFlyBig, friendly-veh...</td>\n",
       "      <td>[(0, 1), (6, 11), (0, 250)]</td>\n",
       "    </tr>\n",
       "    <tr>\n",
       "      <th>92</th>\n",
       "      <td>527</td>\n",
       "      <td>29</td>\n",
       "      <td>[harmful-breakable-shooterBig, friendly-vehicl...</td>\n",
       "      <td>[(0, 5), (6, 11), (0, 98)]</td>\n",
       "    </tr>\n",
       "    <tr>\n",
       "      <th>87</th>\n",
       "      <td>610</td>\n",
       "      <td>30</td>\n",
       "      <td>[harmful-indestructible-shooter, harmful-indes...</td>\n",
       "      <td>[(25, 36), (0, 2), (0, 11)]</td>\n",
       "    </tr>\n",
       "    <tr>\n",
       "      <th>58</th>\n",
       "      <td>656</td>\n",
       "      <td>49</td>\n",
       "      <td>[harmful-breakable-shooterBig, harmful-indestr...</td>\n",
       "      <td>[(0, 2), (13, 24), (0, 398)]</td>\n",
       "    </tr>\n",
       "    <tr>\n",
       "      <th>51</th>\n",
       "      <td>641</td>\n",
       "      <td>58</td>\n",
       "      <td>[harmful-breakable-shooterBig, harmful-indestr...</td>\n",
       "      <td>[(0, 5), (201, 392), (0, 11)]</td>\n",
       "    </tr>\n",
       "    <tr>\n",
       "      <th>123</th>\n",
       "      <td>689</td>\n",
       "      <td>24</td>\n",
       "      <td>[harmful-breakable-flyBig, harmful-indestructi...</td>\n",
       "      <td>[(0, 6), (35, 51), (0, 3)]</td>\n",
       "    </tr>\n",
       "    <tr>\n",
       "      <th>82</th>\n",
       "      <td>533</td>\n",
       "      <td>31</td>\n",
       "      <td>[harmful-breakable-shooterFlyBig, friendly-veh...</td>\n",
       "      <td>[(0, 1), (6, 11), (0, 154)]</td>\n",
       "    </tr>\n",
       "    <tr>\n",
       "      <th>42</th>\n",
       "      <td>616</td>\n",
       "      <td>60</td>\n",
       "      <td>[harmful-breakable-flyBig, harmful-indestructi...</td>\n",
       "      <td>[(0, 9), (201, 392), (0, 299)]</td>\n",
       "    </tr>\n",
       "    <tr>\n",
       "      <th>46</th>\n",
       "      <td>508</td>\n",
       "      <td>59</td>\n",
       "      <td>[harmful-breakable-flyBig, harmful-indestructi...</td>\n",
       "      <td>[(0, 8), (201, 392), (0, 11)]</td>\n",
       "    </tr>\n",
       "    <tr>\n",
       "      <th>79</th>\n",
       "      <td>657</td>\n",
       "      <td>32</td>\n",
       "      <td>[harmful-breakable-shooterBig, harmful-indestr...</td>\n",
       "      <td>[(0, 5), (25, 36), (0, 176)]</td>\n",
       "    </tr>\n",
       "    <tr>\n",
       "      <th>48</th>\n",
       "      <td>716</td>\n",
       "      <td>59</td>\n",
       "      <td>[harmful-breakable-shooterBig, harmful-indestr...</td>\n",
       "      <td>[(0, 5), (201, 392), (0, 299)]</td>\n",
       "    </tr>\n",
       "    <tr>\n",
       "      <th>70</th>\n",
       "      <td>710</td>\n",
       "      <td>38</td>\n",
       "      <td>[harmful-breakable-flyBig, friendly-help, frie...</td>\n",
       "      <td>[(0, 4), (206, 399), (0, 39)]</td>\n",
       "    </tr>\n",
       "    <tr>\n",
       "      <th>64</th>\n",
       "      <td>518</td>\n",
       "      <td>39</td>\n",
       "      <td>[harmful-breakable-flyBig, friendly-help, frie...</td>\n",
       "      <td>[(0, 3), (206, 399), (0, 296)]</td>\n",
       "    </tr>\n",
       "    <tr>\n",
       "      <th>116</th>\n",
       "      <td>650</td>\n",
       "      <td>25</td>\n",
       "      <td>[harmful-breakable-shooterBig, harmful-indestr...</td>\n",
       "      <td>[(0, 1), (35, 51), (0, 398)]</td>\n",
       "    </tr>\n",
       "    <tr>\n",
       "      <th>85</th>\n",
       "      <td>502</td>\n",
       "      <td>30</td>\n",
       "      <td>[harmful-indestructible-shooterFly, friendly-v...</td>\n",
       "      <td>[(0, 2), (6, 11), (0, 154)]</td>\n",
       "    </tr>\n",
       "    <tr>\n",
       "      <th>112</th>\n",
       "      <td>153</td>\n",
       "      <td>25</td>\n",
       "      <td>[harmful-indestructible-fixedBig, friendly-help]</td>\n",
       "      <td>[(35, 51), (0, 398)]</td>\n",
       "    </tr>\n",
       "    <tr>\n",
       "      <th>113</th>\n",
       "      <td>173</td>\n",
       "      <td>25</td>\n",
       "      <td>[harmful-indestructible-fixedBig, friendly-veh...</td>\n",
       "      <td>[(35, 51), (0, 3)]</td>\n",
       "    </tr>\n",
       "    <tr>\n",
       "      <th>25</th>\n",
       "      <td>38</td>\n",
       "      <td>70</td>\n",
       "      <td>[harmful-indestructible-fixedBig, harmful-inde...</td>\n",
       "      <td>[(18, 34), (0, 2)]</td>\n",
       "    </tr>\n",
       "    <tr>\n",
       "      <th>84</th>\n",
       "      <td>180</td>\n",
       "      <td>30</td>\n",
       "      <td>[harmful-indestructible-shooter, friendly-vehi...</td>\n",
       "      <td>[(25, 36), (0, 11)]</td>\n",
       "    </tr>\n",
       "    <tr>\n",
       "      <th>27</th>\n",
       "      <td>172</td>\n",
       "      <td>67</td>\n",
       "      <td>[harmful-indestructible-fixedBig, friendly-veh...</td>\n",
       "      <td>[(18, 34), (0, 11)]</td>\n",
       "    </tr>\n",
       "    <tr>\n",
       "      <th>78</th>\n",
       "      <td>110</td>\n",
       "      <td>34</td>\n",
       "      <td>[harmful-indestructible-shooter, harmful-indes...</td>\n",
       "      <td>[(25, 36), (0, 2)]</td>\n",
       "    </tr>\n",
       "    <tr>\n",
       "      <th>62</th>\n",
       "      <td>165</td>\n",
       "      <td>40</td>\n",
       "      <td>[friendly-help, friendly-coin]</td>\n",
       "      <td>[(203, 399), (0, 296)]</td>\n",
       "    </tr>\n",
       "    <tr>\n",
       "      <th>60</th>\n",
       "      <td>159</td>\n",
       "      <td>42</td>\n",
       "      <td>[friendly-help, friendly-teleport]</td>\n",
       "      <td>[(203, 399), (0, 58)]</td>\n",
       "    </tr>\n",
       "    <tr>\n",
       "      <th>54</th>\n",
       "      <td>179</td>\n",
       "      <td>52</td>\n",
       "      <td>[harmful-indestructible-shooter, friendly-vehi...</td>\n",
       "      <td>[(13, 24), (0, 13)]</td>\n",
       "    </tr>\n",
       "    <tr>\n",
       "      <th>45</th>\n",
       "      <td>132</td>\n",
       "      <td>59</td>\n",
       "      <td>[harmful-indestructible-fixed, friendly-vehicle]</td>\n",
       "      <td>[(201, 392), (0, 11)]</td>\n",
       "    </tr>\n",
       "    <tr>\n",
       "      <th>41</th>\n",
       "      <td>189</td>\n",
       "      <td>60</td>\n",
       "      <td>[harmful-indestructible-fixed, friendly-help]</td>\n",
       "      <td>[(201, 392), (0, 299)]</td>\n",
       "    </tr>\n",
       "    <tr>\n",
       "      <th>31</th>\n",
       "      <td>151</td>\n",
       "      <td>64</td>\n",
       "      <td>[harmful-indestructible-fixedBig, friendly-help]</td>\n",
       "      <td>[(18, 34), (0, 176)]</td>\n",
       "    </tr>\n",
       "    <tr>\n",
       "      <th>81</th>\n",
       "      <td>146</td>\n",
       "      <td>31</td>\n",
       "      <td>[friendly-vehicle, friendly-help]</td>\n",
       "      <td>[(6, 11), (0, 154)]</td>\n",
       "    </tr>\n",
       "  </tbody>\n",
       "</table>\n",
       "</div>"
      ],
      "text/plain": [
       "    cluster  coverage                                          dimension   \n",
       "120    2989        25  [harmful-breakable-flyBig, harmful-breakable-s...  \\\n",
       "110    2489        26  [harmful-breakable-shooterFlyBig, harmful-inde...   \n",
       "111    2532        26  [harmful-breakable-flyBig, harmful-breakable-s...   \n",
       "119    2542        25  [harmful-breakable-flyBig, harmful-indestructi...   \n",
       "125    1306        24  [harmful-breakable-flyBig, harmful-breakable-s...   \n",
       "106    1347        27  [harmful-breakable-flyBig, harmful-indestructi...   \n",
       "76     1620        38  [harmful-breakable-flyBig, harmful-breakable-s...   \n",
       "80     1250        32  [harmful-breakable-shooterBig, harmful-indestr...   \n",
       "83     1421        31  [harmful-breakable-flyBig, harmful-breakable-s...   \n",
       "89     1123        30  [harmful-breakable-shooterFlyBig, harmful-inde...   \n",
       "90     1139        30  [harmful-breakable-flyBig, harmful-breakable-s...   \n",
       "94     1145        29  [harmful-breakable-flyBig, harmful-indestructi...   \n",
       "95     1151        29  [harmful-breakable-shooterBig, harmful-breakab...   \n",
       "99     1114        28  [harmful-breakable-shooterBig, harmful-indestr...   \n",
       "100    1177        28  [harmful-breakable-flyBig, harmful-breakable-s...   \n",
       "101    1398        28  [harmful-breakable-shooterFlyBig, harmful-inde...   \n",
       "59     1420        47  [harmful-breakable-flyBig, harmful-breakable-s...   \n",
       "73     1430        38  [harmful-breakable-flyBig, harmful-breakable-s...   \n",
       "102    1452        28  [harmful-breakable-flyBig, harmful-breakable-s...   \n",
       "50     1295        59  [harmful-breakable-flyBig, harmful-breakable-s...   \n",
       "37     1242        62  [harmful-breakable-shooterBig, harmful-indestr...   \n",
       "38     1305        62  [harmful-breakable-flyBig, harmful-breakable-s...   \n",
       "39     1335        62  [harmful-breakable-flyBig, harmful-indestructi...   \n",
       "86      570        30  [harmful-breakable-flyBig, friendly-vehicle, f...   \n",
       "30      688        65  [harmful-breakable-flyBig, harmful-indestructi...   \n",
       "124     696        24  [harmful-breakable-flyBig, harmful-indestructi...   \n",
       "33      538        63  [harmful-indestructible-fixedBig, harmful-inde...   \n",
       "98      703        28  [harmful-breakable-flyBig, friendly-vehicle, f...   \n",
       "97      682        28  [harmful-indestructible-shooterFly, friendly-v...   \n",
       "35      649        63  [harmful-breakable-shooterBig, harmful-indestr...   \n",
       "36      695        63  [harmful-breakable-flyBig, harmful-indestructi...   \n",
       "93      739        29  [harmful-breakable-shooterFlyBig, friendly-veh...   \n",
       "92      527        29  [harmful-breakable-shooterBig, friendly-vehicl...   \n",
       "87      610        30  [harmful-indestructible-shooter, harmful-indes...   \n",
       "58      656        49  [harmful-breakable-shooterBig, harmful-indestr...   \n",
       "51      641        58  [harmful-breakable-shooterBig, harmful-indestr...   \n",
       "123     689        24  [harmful-breakable-flyBig, harmful-indestructi...   \n",
       "82      533        31  [harmful-breakable-shooterFlyBig, friendly-veh...   \n",
       "42      616        60  [harmful-breakable-flyBig, harmful-indestructi...   \n",
       "46      508        59  [harmful-breakable-flyBig, harmful-indestructi...   \n",
       "79      657        32  [harmful-breakable-shooterBig, harmful-indestr...   \n",
       "48      716        59  [harmful-breakable-shooterBig, harmful-indestr...   \n",
       "70      710        38  [harmful-breakable-flyBig, friendly-help, frie...   \n",
       "64      518        39  [harmful-breakable-flyBig, friendly-help, frie...   \n",
       "116     650        25  [harmful-breakable-shooterBig, harmful-indestr...   \n",
       "85      502        30  [harmful-indestructible-shooterFly, friendly-v...   \n",
       "112     153        25   [harmful-indestructible-fixedBig, friendly-help]   \n",
       "113     173        25  [harmful-indestructible-fixedBig, friendly-veh...   \n",
       "25       38        70  [harmful-indestructible-fixedBig, harmful-inde...   \n",
       "84      180        30  [harmful-indestructible-shooter, friendly-vehi...   \n",
       "27      172        67  [harmful-indestructible-fixedBig, friendly-veh...   \n",
       "78      110        34  [harmful-indestructible-shooter, harmful-indes...   \n",
       "62      165        40                     [friendly-help, friendly-coin]   \n",
       "60      159        42                 [friendly-help, friendly-teleport]   \n",
       "54      179        52  [harmful-indestructible-shooter, friendly-vehi...   \n",
       "45      132        59   [harmful-indestructible-fixed, friendly-vehicle]   \n",
       "41      189        60      [harmful-indestructible-fixed, friendly-help]   \n",
       "31      151        64   [harmful-indestructible-fixedBig, friendly-help]   \n",
       "81      146        31                  [friendly-vehicle, friendly-help]   \n",
       "\n",
       "                                              interval  \n",
       "120  [(0, 5), (0, 1), (0, 2), (6, 11), (0, 154), (0...  \n",
       "110      [(0, 1), (0, 2), (6, 11), (0, 154), (0, 250)]  \n",
       "111      [(0, 5), (0, 1), (6, 11), (0, 154), (0, 250)]  \n",
       "119      [(0, 5), (0, 2), (6, 11), (0, 154), (0, 250)]  \n",
       "125               [(0, 6), (0, 1), (35, 51), (0, 398)]  \n",
       "106                [(0, 5), (0, 2), (6, 11), (0, 250)]  \n",
       "76               [(0, 4), (0, 3), (206, 399), (0, 39)]  \n",
       "80                [(0, 5), (25, 36), (0, 2), (0, 176)]  \n",
       "83                [(0, 6), (0, 5), (25, 36), (0, 176)]  \n",
       "89                 [(0, 1), (0, 2), (6, 11), (0, 154)]  \n",
       "90                 [(0, 6), (0, 1), (6, 11), (0, 154)]  \n",
       "94                 [(0, 6), (0, 2), (6, 11), (0, 154)]  \n",
       "95                  [(0, 5), (0, 1), (6, 11), (0, 98)]  \n",
       "99                  [(0, 5), (0, 2), (6, 11), (0, 98)]  \n",
       "100                 [(0, 6), (0, 5), (6, 11), (0, 98)]  \n",
       "101                [(0, 1), (0, 2), (6, 11), (0, 250)]  \n",
       "59                [(0, 9), (0, 2), (13, 24), (0, 398)]  \n",
       "73              [(0, 3), (0, 3), (206, 399), (0, 296)]  \n",
       "102                [(0, 5), (0, 1), (6, 11), (0, 250)]  \n",
       "50              [(0, 9), (0, 5), (201, 392), (0, 299)]  \n",
       "37                [(0, 5), (18, 34), (0, 2), (0, 176)]  \n",
       "38                [(0, 9), (0, 5), (18, 34), (0, 176)]  \n",
       "39                [(0, 9), (18, 34), (0, 2), (0, 176)]  \n",
       "86                         [(0, 6), (6, 11), (0, 154)]  \n",
       "30                         [(0, 5), (18, 34), (0, 11)]  \n",
       "124                       [(0, 6), (35, 51), (0, 398)]  \n",
       "33                        [(18, 34), (0, 2), (0, 176)]  \n",
       "98                         [(0, 5), (6, 11), (0, 250)]  \n",
       "97                         [(0, 2), (6, 11), (0, 250)]  \n",
       "35                        [(0, 5), (18, 34), (0, 176)]  \n",
       "36                        [(0, 9), (18, 34), (0, 176)]  \n",
       "93                         [(0, 1), (6, 11), (0, 250)]  \n",
       "92                          [(0, 5), (6, 11), (0, 98)]  \n",
       "87                         [(25, 36), (0, 2), (0, 11)]  \n",
       "58                        [(0, 2), (13, 24), (0, 398)]  \n",
       "51                       [(0, 5), (201, 392), (0, 11)]  \n",
       "123                         [(0, 6), (35, 51), (0, 3)]  \n",
       "82                         [(0, 1), (6, 11), (0, 154)]  \n",
       "42                      [(0, 9), (201, 392), (0, 299)]  \n",
       "46                       [(0, 8), (201, 392), (0, 11)]  \n",
       "79                        [(0, 5), (25, 36), (0, 176)]  \n",
       "48                      [(0, 5), (201, 392), (0, 299)]  \n",
       "70                       [(0, 4), (206, 399), (0, 39)]  \n",
       "64                      [(0, 3), (206, 399), (0, 296)]  \n",
       "116                       [(0, 1), (35, 51), (0, 398)]  \n",
       "85                         [(0, 2), (6, 11), (0, 154)]  \n",
       "112                               [(35, 51), (0, 398)]  \n",
       "113                                 [(35, 51), (0, 3)]  \n",
       "25                                  [(18, 34), (0, 2)]  \n",
       "84                                 [(25, 36), (0, 11)]  \n",
       "27                                 [(18, 34), (0, 11)]  \n",
       "78                                  [(25, 36), (0, 2)]  \n",
       "62                              [(203, 399), (0, 296)]  \n",
       "60                               [(203, 399), (0, 58)]  \n",
       "54                                 [(13, 24), (0, 13)]  \n",
       "45                               [(201, 392), (0, 11)]  \n",
       "41                              [(201, 392), (0, 299)]  \n",
       "31                                [(18, 34), (0, 176)]  \n",
       "81                                 [(6, 11), (0, 154)]  "
      ]
     },
     "execution_count": 21,
     "metadata": {},
     "output_type": "execute_result"
    }
   ],
   "source": [
    "print(\"Lines %d, columns %d\" % df_itemset_tail[itemset_columns].shape)\n",
    "df_itemset_tail[itemset_columns]"
   ]
  },
  {
   "cell_type": "code",
   "execution_count": 22,
   "metadata": {
    "ExecuteTime": {
     "end_time": "2019-07-19T17:23:33.564997Z",
     "start_time": "2019-07-19T17:23:33.505860Z"
    }
   },
   "outputs": [],
   "source": [
    "# -- Without the dimensions (exclud)\n",
    "def withoutDimension(df, exclud=[]):\n",
    "    idxs, conds = [], []\n",
    "    n = len(exclud)\n",
    "    for idx, row in df.iterrows():\n",
    "        idxs.append(idx)\n",
    "        dims = [dim not in row['dimension'] for dim in exclud]\n",
    "        conds.append(sum(dims) == n)\n",
    "    print('without: %d' % sum(conds), exclud)\n",
    "    return pd.Series(conds, index=idxs)\n",
    "\n",
    "\n",
    "# -- With the dimensions (includ)\n",
    "def withDimension(df, includ=[]):\n",
    "    idxs, conds = [], []\n",
    "    n = len(includ)\n",
    "    for idx, row in df.iterrows():\n",
    "        idxs.append(idx)\n",
    "        dims = [dim in row['dimension'] for dim in includ]\n",
    "        conds.append(sum(dims) == n)\n",
    "    print('with: %d' % sum(conds), includ)\n",
    "    return pd.Series(conds, index=idxs)"
   ]
  },
  {
   "cell_type": "markdown",
   "metadata": {},
   "source": [
    "Removing `'friendly-help'` dimension"
   ]
  },
  {
   "cell_type": "code",
   "execution_count": 23,
   "metadata": {
    "ExecuteTime": {
     "end_time": "2019-07-19T17:23:33.696447Z",
     "start_time": "2019-07-19T17:23:33.566242Z"
    }
   },
   "outputs": [
    {
     "name": "stdout",
     "output_type": "stream",
     "text": [
      "without: 18 ['friendly-help']\n"
     ]
    },
    {
     "data": {
      "text/html": [
       "<div>\n",
       "<style scoped>\n",
       "    .dataframe tbody tr th:only-of-type {\n",
       "        vertical-align: middle;\n",
       "    }\n",
       "\n",
       "    .dataframe tbody tr th {\n",
       "        vertical-align: top;\n",
       "    }\n",
       "\n",
       "    .dataframe thead th {\n",
       "        text-align: right;\n",
       "    }\n",
       "</style>\n",
       "<table border=\"1\" class=\"dataframe\">\n",
       "  <thead>\n",
       "    <tr style=\"text-align: right;\">\n",
       "      <th></th>\n",
       "      <th>cluster</th>\n",
       "      <th>coverage</th>\n",
       "      <th>dimension</th>\n",
       "      <th>interval</th>\n",
       "    </tr>\n",
       "  </thead>\n",
       "  <tbody>\n",
       "    <tr>\n",
       "      <th>106</th>\n",
       "      <td>1347</td>\n",
       "      <td>27</td>\n",
       "      <td>[harmful-breakable-flyBig, harmful-indestructi...</td>\n",
       "      <td>[(0, 5), (0, 2), (6, 11), (0, 250)]</td>\n",
       "    </tr>\n",
       "    <tr>\n",
       "      <th>101</th>\n",
       "      <td>1398</td>\n",
       "      <td>28</td>\n",
       "      <td>[harmful-breakable-shooterFlyBig, harmful-inde...</td>\n",
       "      <td>[(0, 1), (0, 2), (6, 11), (0, 250)]</td>\n",
       "    </tr>\n",
       "    <tr>\n",
       "      <th>102</th>\n",
       "      <td>1452</td>\n",
       "      <td>28</td>\n",
       "      <td>[harmful-breakable-flyBig, harmful-breakable-s...</td>\n",
       "      <td>[(0, 5), (0, 1), (6, 11), (0, 250)]</td>\n",
       "    </tr>\n",
       "    <tr>\n",
       "      <th>30</th>\n",
       "      <td>688</td>\n",
       "      <td>65</td>\n",
       "      <td>[harmful-breakable-flyBig, harmful-indestructi...</td>\n",
       "      <td>[(0, 5), (18, 34), (0, 11)]</td>\n",
       "    </tr>\n",
       "    <tr>\n",
       "      <th>98</th>\n",
       "      <td>703</td>\n",
       "      <td>28</td>\n",
       "      <td>[harmful-breakable-flyBig, friendly-vehicle, f...</td>\n",
       "      <td>[(0, 5), (6, 11), (0, 250)]</td>\n",
       "    </tr>\n",
       "    <tr>\n",
       "      <th>97</th>\n",
       "      <td>682</td>\n",
       "      <td>28</td>\n",
       "      <td>[harmful-indestructible-shooterFly, friendly-v...</td>\n",
       "      <td>[(0, 2), (6, 11), (0, 250)]</td>\n",
       "    </tr>\n",
       "    <tr>\n",
       "      <th>93</th>\n",
       "      <td>739</td>\n",
       "      <td>29</td>\n",
       "      <td>[harmful-breakable-shooterFlyBig, friendly-veh...</td>\n",
       "      <td>[(0, 1), (6, 11), (0, 250)]</td>\n",
       "    </tr>\n",
       "    <tr>\n",
       "      <th>87</th>\n",
       "      <td>610</td>\n",
       "      <td>30</td>\n",
       "      <td>[harmful-indestructible-shooter, harmful-indes...</td>\n",
       "      <td>[(25, 36), (0, 2), (0, 11)]</td>\n",
       "    </tr>\n",
       "    <tr>\n",
       "      <th>51</th>\n",
       "      <td>641</td>\n",
       "      <td>58</td>\n",
       "      <td>[harmful-breakable-shooterBig, harmful-indestr...</td>\n",
       "      <td>[(0, 5), (201, 392), (0, 11)]</td>\n",
       "    </tr>\n",
       "    <tr>\n",
       "      <th>123</th>\n",
       "      <td>689</td>\n",
       "      <td>24</td>\n",
       "      <td>[harmful-breakable-flyBig, harmful-indestructi...</td>\n",
       "      <td>[(0, 6), (35, 51), (0, 3)]</td>\n",
       "    </tr>\n",
       "    <tr>\n",
       "      <th>46</th>\n",
       "      <td>508</td>\n",
       "      <td>59</td>\n",
       "      <td>[harmful-breakable-flyBig, harmful-indestructi...</td>\n",
       "      <td>[(0, 8), (201, 392), (0, 11)]</td>\n",
       "    </tr>\n",
       "    <tr>\n",
       "      <th>113</th>\n",
       "      <td>173</td>\n",
       "      <td>25</td>\n",
       "      <td>[harmful-indestructible-fixedBig, friendly-veh...</td>\n",
       "      <td>[(35, 51), (0, 3)]</td>\n",
       "    </tr>\n",
       "    <tr>\n",
       "      <th>25</th>\n",
       "      <td>38</td>\n",
       "      <td>70</td>\n",
       "      <td>[harmful-indestructible-fixedBig, harmful-inde...</td>\n",
       "      <td>[(18, 34), (0, 2)]</td>\n",
       "    </tr>\n",
       "    <tr>\n",
       "      <th>84</th>\n",
       "      <td>180</td>\n",
       "      <td>30</td>\n",
       "      <td>[harmful-indestructible-shooter, friendly-vehi...</td>\n",
       "      <td>[(25, 36), (0, 11)]</td>\n",
       "    </tr>\n",
       "    <tr>\n",
       "      <th>27</th>\n",
       "      <td>172</td>\n",
       "      <td>67</td>\n",
       "      <td>[harmful-indestructible-fixedBig, friendly-veh...</td>\n",
       "      <td>[(18, 34), (0, 11)]</td>\n",
       "    </tr>\n",
       "    <tr>\n",
       "      <th>78</th>\n",
       "      <td>110</td>\n",
       "      <td>34</td>\n",
       "      <td>[harmful-indestructible-shooter, harmful-indes...</td>\n",
       "      <td>[(25, 36), (0, 2)]</td>\n",
       "    </tr>\n",
       "    <tr>\n",
       "      <th>54</th>\n",
       "      <td>179</td>\n",
       "      <td>52</td>\n",
       "      <td>[harmful-indestructible-shooter, friendly-vehi...</td>\n",
       "      <td>[(13, 24), (0, 13)]</td>\n",
       "    </tr>\n",
       "    <tr>\n",
       "      <th>45</th>\n",
       "      <td>132</td>\n",
       "      <td>59</td>\n",
       "      <td>[harmful-indestructible-fixed, friendly-vehicle]</td>\n",
       "      <td>[(201, 392), (0, 11)]</td>\n",
       "    </tr>\n",
       "  </tbody>\n",
       "</table>\n",
       "</div>"
      ],
      "text/plain": [
       "    cluster  coverage                                          dimension   \n",
       "106    1347        27  [harmful-breakable-flyBig, harmful-indestructi...  \\\n",
       "101    1398        28  [harmful-breakable-shooterFlyBig, harmful-inde...   \n",
       "102    1452        28  [harmful-breakable-flyBig, harmful-breakable-s...   \n",
       "30      688        65  [harmful-breakable-flyBig, harmful-indestructi...   \n",
       "98      703        28  [harmful-breakable-flyBig, friendly-vehicle, f...   \n",
       "97      682        28  [harmful-indestructible-shooterFly, friendly-v...   \n",
       "93      739        29  [harmful-breakable-shooterFlyBig, friendly-veh...   \n",
       "87      610        30  [harmful-indestructible-shooter, harmful-indes...   \n",
       "51      641        58  [harmful-breakable-shooterBig, harmful-indestr...   \n",
       "123     689        24  [harmful-breakable-flyBig, harmful-indestructi...   \n",
       "46      508        59  [harmful-breakable-flyBig, harmful-indestructi...   \n",
       "113     173        25  [harmful-indestructible-fixedBig, friendly-veh...   \n",
       "25       38        70  [harmful-indestructible-fixedBig, harmful-inde...   \n",
       "84      180        30  [harmful-indestructible-shooter, friendly-vehi...   \n",
       "27      172        67  [harmful-indestructible-fixedBig, friendly-veh...   \n",
       "78      110        34  [harmful-indestructible-shooter, harmful-indes...   \n",
       "54      179        52  [harmful-indestructible-shooter, friendly-vehi...   \n",
       "45      132        59   [harmful-indestructible-fixed, friendly-vehicle]   \n",
       "\n",
       "                                interval  \n",
       "106  [(0, 5), (0, 2), (6, 11), (0, 250)]  \n",
       "101  [(0, 1), (0, 2), (6, 11), (0, 250)]  \n",
       "102  [(0, 5), (0, 1), (6, 11), (0, 250)]  \n",
       "30           [(0, 5), (18, 34), (0, 11)]  \n",
       "98           [(0, 5), (6, 11), (0, 250)]  \n",
       "97           [(0, 2), (6, 11), (0, 250)]  \n",
       "93           [(0, 1), (6, 11), (0, 250)]  \n",
       "87           [(25, 36), (0, 2), (0, 11)]  \n",
       "51         [(0, 5), (201, 392), (0, 11)]  \n",
       "123           [(0, 6), (35, 51), (0, 3)]  \n",
       "46         [(0, 8), (201, 392), (0, 11)]  \n",
       "113                   [(35, 51), (0, 3)]  \n",
       "25                    [(18, 34), (0, 2)]  \n",
       "84                   [(25, 36), (0, 11)]  \n",
       "27                   [(18, 34), (0, 11)]  \n",
       "78                    [(25, 36), (0, 2)]  \n",
       "54                   [(13, 24), (0, 13)]  \n",
       "45                 [(201, 392), (0, 11)]  "
      ]
     },
     "execution_count": 23,
     "metadata": {},
     "output_type": "execute_result"
    }
   ],
   "source": [
    "df_itemset_tail[withoutDimension(df_itemset_tail, ['friendly-help'])][itemset_columns]"
   ]
  },
  {
   "cell_type": "markdown",
   "metadata": {},
   "source": [
    "Without items"
   ]
  },
  {
   "cell_type": "code",
   "execution_count": 24,
   "metadata": {
    "ExecuteTime": {
     "end_time": "2019-07-19T17:23:33.849235Z",
     "start_time": "2019-07-19T17:23:33.697885Z"
    }
   },
   "outputs": [
    {
     "name": "stdout",
     "output_type": "stream",
     "text": [
      "without: 2 ['friendly-help', 'friendly-vehicle', 'friendly-coin']\n"
     ]
    },
    {
     "data": {
      "text/html": [
       "<div>\n",
       "<style scoped>\n",
       "    .dataframe tbody tr th:only-of-type {\n",
       "        vertical-align: middle;\n",
       "    }\n",
       "\n",
       "    .dataframe tbody tr th {\n",
       "        vertical-align: top;\n",
       "    }\n",
       "\n",
       "    .dataframe thead th {\n",
       "        text-align: right;\n",
       "    }\n",
       "</style>\n",
       "<table border=\"1\" class=\"dataframe\">\n",
       "  <thead>\n",
       "    <tr style=\"text-align: right;\">\n",
       "      <th></th>\n",
       "      <th>cluster</th>\n",
       "      <th>coverage</th>\n",
       "      <th>dimension</th>\n",
       "      <th>interval</th>\n",
       "    </tr>\n",
       "  </thead>\n",
       "  <tbody>\n",
       "    <tr>\n",
       "      <th>25</th>\n",
       "      <td>38</td>\n",
       "      <td>70</td>\n",
       "      <td>[harmful-indestructible-fixedBig, harmful-inde...</td>\n",
       "      <td>[(18, 34), (0, 2)]</td>\n",
       "    </tr>\n",
       "    <tr>\n",
       "      <th>78</th>\n",
       "      <td>110</td>\n",
       "      <td>34</td>\n",
       "      <td>[harmful-indestructible-shooter, harmful-indes...</td>\n",
       "      <td>[(25, 36), (0, 2)]</td>\n",
       "    </tr>\n",
       "  </tbody>\n",
       "</table>\n",
       "</div>"
      ],
      "text/plain": [
       "   cluster  coverage                                          dimension   \n",
       "25      38        70  [harmful-indestructible-fixedBig, harmful-inde...  \\\n",
       "78     110        34  [harmful-indestructible-shooter, harmful-indes...   \n",
       "\n",
       "              interval  \n",
       "25  [(18, 34), (0, 2)]  \n",
       "78  [(25, 36), (0, 2)]  "
      ]
     },
     "execution_count": 24,
     "metadata": {},
     "output_type": "execute_result"
    }
   ],
   "source": [
    "df_itemset_tail[withoutDimension(df_itemset_tail, ['friendly-help','friendly-vehicle','friendly-coin'])][itemset_columns]"
   ]
  },
  {
   "cell_type": "code",
   "execution_count": null,
   "metadata": {},
   "outputs": [],
   "source": []
  }
 ],
 "metadata": {
  "kernelspec": {
   "display_name": "Python 3",
   "language": "python",
   "name": "python3"
  },
  "language_info": {
   "codemirror_mode": {
    "name": "ipython",
    "version": 3
   },
   "file_extension": ".py",
   "mimetype": "text/x-python",
   "name": "python",
   "nbconvert_exporter": "python",
   "pygments_lexer": "ipython3",
   "version": "3.10.6"
  },
  "varInspector": {
   "cols": {
    "lenName": 16,
    "lenType": 16,
    "lenVar": 40
   },
   "kernels_config": {
    "python": {
     "delete_cmd_postfix": "",
     "delete_cmd_prefix": "del ",
     "library": "var_list.py",
     "varRefreshCmd": "print(var_dic_list())"
    },
    "r": {
     "delete_cmd_postfix": ") ",
     "delete_cmd_prefix": "rm(",
     "library": "var_list.r",
     "varRefreshCmd": "cat(var_dic_list()) "
    }
   },
   "types_to_exclude": [
    "module",
    "function",
    "builtin_function_or_method",
    "instance",
    "_Feature"
   ],
   "window_display": false
  }
 },
 "nbformat": 4,
 "nbformat_minor": 2
}
